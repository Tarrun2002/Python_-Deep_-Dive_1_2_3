{
  "nbformat": 4,
  "nbformat_minor": 0,
  "metadata": {
    "colab": {
      "provenance": []
    },
    "kernelspec": {
      "name": "python3",
      "display_name": "Python 3"
    },
    "language_info": {
      "name": "python"
    }
  },
  "cells": [
    {
      "cell_type": "code",
      "execution_count": null,
      "metadata": {
        "colab": {
          "base_uri": "https://localhost:8080/",
          "height": 242
        },
        "id": "F80VHyVyCoVb",
        "outputId": "00032b16-67b6-4615-a6f9-34210dd759b0"
      },
      "outputs": [
        {
          "output_type": "error",
          "ename": "NameError",
          "evalue": "ignored",
          "traceback": [
            "\u001b[0;31m---------------------------------------------------------------------------\u001b[0m",
            "\u001b[0;31mNameError\u001b[0m                                 Traceback (most recent call last)",
            "\u001b[0;32m<ipython-input-5-04ca7b121427>\u001b[0m in \u001b[0;36m<cell line: 3>\u001b[0;34m()\u001b[0m\n\u001b[1;32m      1\u001b[0m \u001b[0;32mdef\u001b[0m \u001b[0mmultiply\u001b[0m\u001b[0;34m(\u001b[0m\u001b[0ma\u001b[0m\u001b[0;34m,\u001b[0m\u001b[0mb\u001b[0m\u001b[0;34m)\u001b[0m\u001b[0;34m:\u001b[0m\u001b[0;34m\u001b[0m\u001b[0;34m\u001b[0m\u001b[0m\n\u001b[1;32m      2\u001b[0m   \u001b[0mresult\u001b[0m\u001b[0;34m=\u001b[0m\u001b[0;36m0\u001b[0m\u001b[0;34m\u001b[0m\u001b[0;34m\u001b[0m\u001b[0m\n\u001b[0;32m----> 3\u001b[0;31m \u001b[0;32mfor\u001b[0m \u001b[0mi\u001b[0m \u001b[0;32min\u001b[0m \u001b[0mrange\u001b[0m\u001b[0;34m(\u001b[0m\u001b[0mb\u001b[0m\u001b[0;34m)\u001b[0m\u001b[0;34m:\u001b[0m\u001b[0;34m\u001b[0m\u001b[0;34m\u001b[0m\u001b[0m\n\u001b[0m\u001b[1;32m      4\u001b[0m   \u001b[0mresult\u001b[0m\u001b[0;34m=\u001b[0m\u001b[0mresult\u001b[0m\u001b[0;34m+\u001b[0m\u001b[0ma\u001b[0m\u001b[0;34m\u001b[0m\u001b[0;34m\u001b[0m\u001b[0m\n\u001b[1;32m      5\u001b[0m \u001b[0;34m\u001b[0m\u001b[0m\n",
            "\u001b[0;31mNameError\u001b[0m: name 'b' is not defined"
          ]
        }
      ],
      "source": [
        "def multiply(a,b):\n",
        "  result=0\n",
        "for i in range(b):\n",
        "  result=result+a\n",
        "\n",
        "  print(result)\n",
        "\n",
        "\n",
        "\n",
        "multiply(3,4)"
      ]
    },
    {
      "cell_type": "markdown",
      "source": [],
      "metadata": {
        "id": "w-yLvX21deq_"
      }
    },
    {
      "cell_type": "code",
      "source": [
        "#Now using recursion\n",
        "#here u identify a base condition .\n",
        "\"\"\"if equal to base condition then terminate\"\"\"\n",
        "def mul(a,b):\n",
        "\n",
        " if b==1:\n",
        "   return a\n",
        " else:\n",
        "    return a+mul(a,b-1)\n",
        "print(mul(3,5))\n"
      ],
      "metadata": {
        "colab": {
          "base_uri": "https://localhost:8080/"
        },
        "id": "E4pLSUw5FLBT",
        "outputId": "f2a8d9b4-4e73-4de4-a89e-c849028532b2"
      },
      "execution_count": null,
      "outputs": [
        {
          "output_type": "stream",
          "name": "stdout",
          "text": [
            "15\n"
          ]
        }
      ]
    },
    {
      "cell_type": "code",
      "source": [
        "def fact(number):\n",
        "  if number==1: #base condition\n",
        "    return 1\n",
        "  else:\n",
        "    return number*fact(number-1)\n",
        "\n",
        "print(fact(5))"
      ],
      "metadata": {
        "colab": {
          "base_uri": "https://localhost:8080/"
        },
        "id": "wh-CjVBKJA5a",
        "outputId": "b4a320b3-2c06-4ba7-d027-cc22d1a14a29"
      },
      "execution_count": null,
      "outputs": [
        {
          "output_type": "stream",
          "name": "stdout",
          "text": [
            "120\n"
          ]
        }
      ]
    },
    {
      "cell_type": "code",
      "source": [
        "def palin(text):\n",
        "  if len(text)==1:\n",
        "    print(\"Palindrome\")\n",
        "  else:\n",
        "    if text[0]==text[-1]:\n",
        "      palin(text[1:-1])\n",
        "    else:\n",
        "      print(\"Not a palin\")\n",
        "\n",
        "palin(\"madam\")\n",
        "\n"
      ],
      "metadata": {
        "colab": {
          "base_uri": "https://localhost:8080/"
        },
        "id": "R0-mB2X1JRRd",
        "outputId": "14aec75b-f82c-4a44-c255-28013584c3d3"
      },
      "execution_count": null,
      "outputs": [
        {
          "output_type": "stream",
          "name": "stdout",
          "text": [
            "Palindrome\n"
          ]
        }
      ]
    },
    {
      "cell_type": "markdown",
      "source": [
        "**LAMBDA** **FUNCTION**:\n",
        "Lambda has no return value as u return in a Function.\n",
        "Lambda is one line function."
      ],
      "metadata": {
        "id": "CWoPQC5SdgJ_"
      }
    },
    {
      "cell_type": "code",
      "source": [
        "b=lambda x:x[0]==\"a\"\n",
        "b(\"apple\")\n",
        "\n"
      ],
      "metadata": {
        "colab": {
          "base_uri": "https://localhost:8080/"
        },
        "id": "-9whxaD5d7Cf",
        "outputId": "76a0dc7a-6dfb-45c3-cbe0-ec23113b2989"
      },
      "execution_count": null,
      "outputs": [
        {
          "output_type": "execute_result",
          "data": {
            "text/plain": [
              "True"
            ]
          },
          "metadata": {},
          "execution_count": 1
        }
      ]
    },
    {
      "cell_type": "code",
      "source": [
        "b=lambda x:\"Even\" if x%2==0 else \"odd\"\n",
        "b(3)"
      ],
      "metadata": {
        "colab": {
          "base_uri": "https://localhost:8080/",
          "height": 36
        },
        "id": "iE932CF5ewyf",
        "outputId": "20032089-c74c-4378-bbec-af77c1ffeb3e"
      },
      "execution_count": null,
      "outputs": [
        {
          "output_type": "execute_result",
          "data": {
            "text/plain": [
              "'odd'"
            ],
            "application/vnd.google.colaboratory.intrinsic+json": {
              "type": "string"
            }
          },
          "metadata": {},
          "execution_count": 5
        }
      ]
    },
    {
      "cell_type": "code",
      "source": [
        "#HOF\n",
        "L=[11,14,21,23,56,78,45,29,28]\n",
        "\n",
        "def return_sum(func,L):\n",
        "\n",
        "  result =0\n",
        "\n",
        "  for i in L:\n",
        "    if func(i):\n",
        "      result=result+i\n",
        "\n",
        "    return result\n",
        "\n",
        "x= lambda x:x%2==0\n",
        "y= lambda x:x%2!=0\n",
        "z= lambda x:x%3==0\n",
        "\n",
        "print(return_sum(x,L))\n",
        "print(return_sum(y,L))\n",
        "print(return_sum(z,L))"
      ],
      "metadata": {
        "colab": {
          "base_uri": "https://localhost:8080/"
        },
        "id": "CjjLoaWTeypz",
        "outputId": "c243f797-4cf9-41e1-a2fa-fd4190b15a7c"
      },
      "execution_count": null,
      "outputs": [
        {
          "output_type": "stream",
          "name": "stdout",
          "text": [
            "0\n",
            "11\n",
            "0\n"
          ]
        }
      ]
    },
    {
      "cell_type": "markdown",
      "source": [
        "**MAP**: Already function in a Python .\n",
        "it accepts function and Iterable.\n",
        "In map we can apply operation to each item .\n"
      ],
      "metadata": {
        "id": "m1PqHqNnifLr"
      }
    },
    {
      "cell_type": "code",
      "source": [
        "L=[1,2,3,4,5,6,7]\n",
        "map(lambda x:x*2,L)\n",
        "list(map(lambda x:x*2,L))"
      ],
      "metadata": {
        "colab": {
          "base_uri": "https://localhost:8080/"
        },
        "id": "dUsbCMINiukv",
        "outputId": "d6b354ed-1397-40b8-d546-3a29eecb3a6b"
      },
      "execution_count": null,
      "outputs": [
        {
          "output_type": "execute_result",
          "data": {
            "text/plain": [
              "[2, 4, 6, 8, 10, 12, 14]"
            ]
          },
          "metadata": {},
          "execution_count": 11
        }
      ]
    },
    {
      "cell_type": "code",
      "source": [
        "list(map(lambda x:x%2==0,L))"
      ],
      "metadata": {
        "colab": {
          "base_uri": "https://localhost:8080/"
        },
        "id": "X4w5j0W4jLFC",
        "outputId": "1ab9bc4d-7ea1-4c59-b00f-ef58c63fe046"
      },
      "execution_count": null,
      "outputs": [
        {
          "output_type": "execute_result",
          "data": {
            "text/plain": [
              "[False, True, False, True, False, True, False]"
            ]
          },
          "metadata": {},
          "execution_count": 12
        }
      ]
    },
    {
      "cell_type": "markdown",
      "source": [
        "**FILTER**: Generally we can apply\n",
        "condition, We use filter....\n",
        "To filter out we do filtering."
      ],
      "metadata": {
        "id": "HRgs7hknkKvK"
      }
    },
    {
      "cell_type": "code",
      "source": [
        "L\n",
        "list(filter(lambda x:x>0,L))"
      ],
      "metadata": {
        "colab": {
          "base_uri": "https://localhost:8080/"
        },
        "id": "8Iv00FH9knE4",
        "outputId": "7b6845ca-ac30-4e2b-c6e9-5a48af3198cf"
      },
      "execution_count": null,
      "outputs": [
        {
          "output_type": "execute_result",
          "data": {
            "text/plain": [
              "[1, 2, 3, 4, 5, 6, 7]"
            ]
          },
          "metadata": {},
          "execution_count": 14
        }
      ]
    },
    {
      "cell_type": "code",
      "source": [
        "fruits=[\"apple\",\"orange\"]\n",
        "list(filter(lambda fruits: \"e\"in fruits,fruits))"
      ],
      "metadata": {
        "colab": {
          "base_uri": "https://localhost:8080/"
        },
        "id": "MzF029fhlDLm",
        "outputId": "c345d66b-9284-4c7a-8385-9cfa444bf95d"
      },
      "execution_count": null,
      "outputs": [
        {
          "output_type": "execute_result",
          "data": {
            "text/plain": [
              "['apple', 'orange']"
            ]
          },
          "metadata": {},
          "execution_count": 16
        }
      ]
    },
    {
      "cell_type": "markdown",
      "source": [
        "REDUCE: Reduce reduces List.\n",
        "We need it import Functools."
      ],
      "metadata": {
        "id": "Kz3c9FEpp3Rw"
      }
    },
    {
      "cell_type": "code",
      "source": [
        "import functools\n",
        "L\n",
        "functools.reduce(lambda x,y: x+y,L)"
      ],
      "metadata": {
        "colab": {
          "base_uri": "https://localhost:8080/"
        },
        "id": "O4h8TgivqH43",
        "outputId": "cdd04f04-8516-428f-f06f-3642ff4f3aae"
      },
      "execution_count": null,
      "outputs": [
        {
          "output_type": "execute_result",
          "data": {
            "text/plain": [
              "28"
            ]
          },
          "metadata": {},
          "execution_count": 19
        }
      ]
    },
    {
      "cell_type": "code",
      "source": [
        "L1=[12,43,56,21,58]\n",
        "functools.reduce(lambda x,y:x+y,L1)"
      ],
      "metadata": {
        "colab": {
          "base_uri": "https://localhost:8080/"
        },
        "id": "FvHpa6Icqf8H",
        "outputId": "c46fdce3-41c0-4dc7-8714-67ef9be4ac25"
      },
      "execution_count": null,
      "outputs": [
        {
          "output_type": "execute_result",
          "data": {
            "text/plain": [
              "190"
            ]
          },
          "metadata": {},
          "execution_count": 22
        }
      ]
    },
    {
      "cell_type": "code",
      "source": [
        "L1=[12,43,56,21,58]\n",
        "functools.reduce(lambda x,y:x if x>y else y ,L1)"
      ],
      "metadata": {
        "colab": {
          "base_uri": "https://localhost:8080/"
        },
        "id": "xyoK5AFmqygS",
        "outputId": "8279564d-530f-40bb-8265-902804ecc026"
      },
      "execution_count": null,
      "outputs": [
        {
          "output_type": "execute_result",
          "data": {
            "text/plain": [
              "58"
            ]
          },
          "metadata": {},
          "execution_count": 24
        }
      ]
    },
    {
      "cell_type": "markdown",
      "source": [
        "**List** **Comprehension**: FOr making a Quick new list by applying some condtion."
      ],
      "metadata": {
        "id": "sSPLK685rWgH"
      }
    },
    {
      "cell_type": "code",
      "source": [
        "L\n",
        "L1=[item *2 fro item in L]"
      ],
      "metadata": {
        "colab": {
          "base_uri": "https://localhost:8080/"
        },
        "id": "3bK-pbQSrb7A",
        "outputId": "06d1c9ad-60d4-49d8-ebd4-227e2c9624b7"
      },
      "execution_count": null,
      "outputs": [
        {
          "output_type": "execute_result",
          "data": {
            "text/plain": [
              "[1, 2, 3, 4, 5, 6, 7]"
            ]
          },
          "metadata": {},
          "execution_count": 25
        }
      ]
    },
    {
      "cell_type": "code",
      "source": [
        "fruits.append(\"Mango\")\n",
        "fruits\n",
        "L3=[fruit for fruit in fruits if fruits[0]==\"o\"]\n",
        "L3"
      ],
      "metadata": {
        "colab": {
          "base_uri": "https://localhost:8080/"
        },
        "id": "LfCvXrsCrwvH",
        "outputId": "b157ab26-b1dc-4ecd-e98a-5d8e07ed43f7"
      },
      "execution_count": null,
      "outputs": [
        {
          "output_type": "execute_result",
          "data": {
            "text/plain": [
              "[]"
            ]
          },
          "metadata": {},
          "execution_count": 35
        }
      ]
    }
  ]
}