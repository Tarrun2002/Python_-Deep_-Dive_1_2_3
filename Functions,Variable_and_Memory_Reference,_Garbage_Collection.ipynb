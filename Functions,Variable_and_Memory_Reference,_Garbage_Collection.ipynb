{
  "nbformat": 4,
  "nbformat_minor": 0,
  "metadata": {
    "colab": {
      "provenance": []
    },
    "kernelspec": {
      "name": "python3",
      "display_name": "Python 3"
    },
    "language_info": {
      "name": "python"
    }
  },
  "cells": [
    {
      "cell_type": "markdown",
      "source": [
        "Ram is a Volatile .\n",
        "If machine is Closed, Since ram is volatile, Sara ka Sara memory , variables jo occupied tha Program k through wohh hatt jata h .\n",
        "Isliye jab machine hang hoa h , Jan apan usko close krte h Tab thikh Ho jata h.\n"
      ],
      "metadata": {
        "id": "rsovImFJzMEV"
      }
    },
    {
      "cell_type": "markdown",
      "source": [
        "In Ram where data is stored=>Registers=>Made of Flip flop=> Made of Logic Gates => Made of a Diode."
      ],
      "metadata": {
        "id": "4iOs48wv0Jkk"
      }
    },
    {
      "cell_type": "code",
      "source": [
        "#Aliasing\n",
        "a=5\n",
        "b=a\n",
        "id(a)\n"
      ],
      "metadata": {
        "colab": {
          "base_uri": "https://localhost:8080/"
        },
        "id": "kxiMyB1z0gIw",
        "outputId": "13b66de4-9928-41fa-ddc8-4aaf269349d3"
      },
      "execution_count": null,
      "outputs": [
        {
          "output_type": "execute_result",
          "data": {
            "text/plain": [
              "140653766478256"
            ]
          },
          "metadata": {},
          "execution_count": 3
        }
      ]
    },
    {
      "cell_type": "code",
      "source": [
        "id(b)\n",
        "#here we got the Sm"
      ],
      "metadata": {
        "colab": {
          "base_uri": "https://localhost:8080/"
        },
        "id": "2YP4gFF_1goA",
        "outputId": "03bee651-3792-40f4-b3cd-536d273314e4"
      },
      "execution_count": null,
      "outputs": [
        {
          "output_type": "execute_result",
          "data": {
            "text/plain": [
              "140653766478256"
            ]
          },
          "metadata": {},
          "execution_count": 4
        }
      ]
    },
    {
      "cell_type": "code",
      "source": [
        "c=b\n",
        "id(c)"
      ],
      "metadata": {
        "colab": {
          "base_uri": "https://localhost:8080/"
        },
        "id": "jAsh7dpt3xcm",
        "outputId": "b39ad82d-6c15-421e-8919-a888c60d3976"
      },
      "execution_count": null,
      "outputs": [
        {
          "output_type": "execute_result",
          "data": {
            "text/plain": [
              "140653766478256"
            ]
          },
          "metadata": {},
          "execution_count": 7
        }
      ]
    },
    {
      "cell_type": "code",
      "source": [
        "#del a means u r deleting a refrence point which is ointing to\n",
        "del a\n",
        "a"
      ],
      "metadata": {
        "colab": {
          "base_uri": "https://localhost:8080/",
          "height": 188
        },
        "id": "l2n6PKVu31TG",
        "outputId": "93782188-f92c-439b-cf8c-5bc9264fafd0"
      },
      "execution_count": null,
      "outputs": [
        {
          "output_type": "error",
          "ename": "NameError",
          "evalue": "ignored",
          "traceback": [
            "\u001b[0;31m---------------------------------------------------------------------------\u001b[0m",
            "\u001b[0;31mNameError\u001b[0m                                 Traceback (most recent call last)",
            "\u001b[0;32m<ipython-input-9-88f0dc819981>\u001b[0m in \u001b[0;36m<cell line: 1>\u001b[0;34m()\u001b[0m\n\u001b[0;32m----> 1\u001b[0;31m \u001b[0;32mdel\u001b[0m \u001b[0ma\u001b[0m\u001b[0;34m\u001b[0m\u001b[0;34m\u001b[0m\u001b[0m\n\u001b[0m\u001b[1;32m      2\u001b[0m \u001b[0ma\u001b[0m\u001b[0;34m\u001b[0m\u001b[0;34m\u001b[0m\u001b[0m\n",
            "\u001b[0;31mNameError\u001b[0m: name 'a' is not defined"
          ]
        }
      ]
    },
    {
      "cell_type": "code",
      "source": [
        "# Refrence Counting\n",
        "import sys\n",
        "a=\"Corona\"\n",
        "b=a\n",
        "c=b\n",
        "id(a)\n",
        "\n"
      ],
      "metadata": {
        "colab": {
          "base_uri": "https://localhost:8080/"
        },
        "id": "vvYa5lZR4UtD",
        "outputId": "805d6e9d-2365-4de2-95be-54cbf14a5f32"
      },
      "execution_count": null,
      "outputs": [
        {
          "output_type": "execute_result",
          "data": {
            "text/plain": [
              "140652722565360"
            ]
          },
          "metadata": {},
          "execution_count": 10
        }
      ]
    },
    {
      "cell_type": "code",
      "source": [
        "id(b)"
      ],
      "metadata": {
        "colab": {
          "base_uri": "https://localhost:8080/"
        },
        "id": "UN8t6orI5EdV",
        "outputId": "4e007d96-7c52-416f-d533-9b993c212ee2"
      },
      "execution_count": null,
      "outputs": [
        {
          "output_type": "execute_result",
          "data": {
            "text/plain": [
              "140652722565360"
            ]
          },
          "metadata": {},
          "execution_count": 11
        }
      ]
    },
    {
      "cell_type": "code",
      "source": [
        "id(c)"
      ],
      "metadata": {
        "colab": {
          "base_uri": "https://localhost:8080/"
        },
        "id": "qk-CLQcN5Ge9",
        "outputId": "ace42e5f-6cbe-44f0-8a9f-7838f87f7a7c"
      },
      "execution_count": null,
      "outputs": [
        {
          "output_type": "execute_result",
          "data": {
            "text/plain": [
              "140652722565360"
            ]
          },
          "metadata": {},
          "execution_count": 12
        }
      ]
    },
    {
      "cell_type": "code",
      "source": [
        "#To check how many variables are pointing.\n",
        "#We check.\n",
        "# I mean the Arrows.\n",
        "\n",
        "sys.getrefcount(a)"
      ],
      "metadata": {
        "colab": {
          "base_uri": "https://localhost:8080/"
        },
        "id": "275-ylRb5IAV",
        "outputId": "2de493e6-8a34-479e-c9c5-a51a2e9a6ab8"
      },
      "execution_count": null,
      "outputs": [
        {
          "output_type": "execute_result",
          "data": {
            "text/plain": [
              "7"
            ]
          },
          "metadata": {},
          "execution_count": 13
        }
      ]
    },
    {
      "cell_type": "markdown",
      "source": [
        "**Garbage Collectio**n:  This means when we del , it actually deletes a Pointer but in memory there is stored something and it is not deleted.\n",
        "So mechanism of Garbage Collection Comes into the picture. Where it free up's the memory. And the memory is empty.\n",
        "In Java there is Also Garbage Collector."
      ],
      "metadata": {
        "id": "hgmz9Nfk5q5Q"
      }
    },
    {
      "cell_type": "code",
      "source": [
        "#Wierd Behaivior\n",
        "a=2\n",
        "b=a\n",
        "c=b\n",
        "sys.getrefcount(a)\n",
        "#Here you can see that it should be between 4 to 10 but you can see that\n",
        "#But it showed 8996 because 2 is a common number, and many variables in your\n",
        "# system are using 2."
      ],
      "metadata": {
        "colab": {
          "base_uri": "https://localhost:8080/"
        },
        "id": "iWdpPYhd5tby",
        "outputId": "d40f54da-ce26-4a5f-a989-5d777963b3d3"
      },
      "execution_count": null,
      "outputs": [
        {
          "output_type": "execute_result",
          "data": {
            "text/plain": [
              "8996"
            ]
          },
          "metadata": {},
          "execution_count": 14
        }
      ]
    },
    {
      "cell_type": "code",
      "source": [
        "a=4\n",
        "b=4\n",
        "id(a)\n"
      ],
      "metadata": {
        "colab": {
          "base_uri": "https://localhost:8080/"
        },
        "id": "JE3F82Nf_tOz",
        "outputId": "01ab4883-c460-45c6-ac5d-539126f78c82"
      },
      "execution_count": null,
      "outputs": [
        {
          "output_type": "execute_result",
          "data": {
            "text/plain": [
              "140653766478224"
            ]
          },
          "metadata": {},
          "execution_count": 15
        }
      ]
    },
    {
      "cell_type": "code",
      "source": [
        "id(b)"
      ],
      "metadata": {
        "colab": {
          "base_uri": "https://localhost:8080/"
        },
        "id": "J_8aLxG-_w6c",
        "outputId": "9a206bb1-e93b-4804-b06b-15b7ffcfb77a"
      },
      "execution_count": null,
      "outputs": [
        {
          "output_type": "execute_result",
          "data": {
            "text/plain": [
              "140653766478224"
            ]
          },
          "metadata": {},
          "execution_count": 17
        }
      ]
    },
    {
      "cell_type": "code",
      "source": [
        "#There is a Range from 1 to 256. There will be's Differenet id's.\n",
        "a=257\n",
        "b=257\n",
        "id(a)"
      ],
      "metadata": {
        "colab": {
          "base_uri": "https://localhost:8080/"
        },
        "id": "m-oOlKdS_y1e",
        "outputId": "d5511baf-764d-4073-9f2b-15d6761b9f2c"
      },
      "execution_count": null,
      "outputs": [
        {
          "output_type": "execute_result",
          "data": {
            "text/plain": [
              "140652502992656"
            ]
          },
          "metadata": {},
          "execution_count": 18
        }
      ]
    },
    {
      "cell_type": "code",
      "source": [
        "id(b)"
      ],
      "metadata": {
        "colab": {
          "base_uri": "https://localhost:8080/"
        },
        "id": "vQweWzDz_21F",
        "outputId": "896058f4-2b6b-4458-9fe6-6fe68cc17dc8"
      },
      "execution_count": null,
      "outputs": [
        {
          "output_type": "execute_result",
          "data": {
            "text/plain": [
              "140652502991792"
            ]
          },
          "metadata": {},
          "execution_count": 19
        }
      ]
    },
    {
      "cell_type": "markdown",
      "source": [
        "**#Mutuability:**\n",
        "Refers to the ability to change or edit data in its memory location.\n",
        "If we can address it is Mutuable.\n",
        "\n",
        "Side effects:\n",
        "If we assign a List and Intialized it to L1 and if we append values in L1 it will change in L also .\n",
        "\n",
        "So to avoid this we do Cloning"
      ],
      "metadata": {
        "id": "eKUyft5ZOIDv"
      }
    },
    {
      "cell_type": "code",
      "source": [
        "L6=[1,2,3,4]\n",
        "id(L6)"
      ],
      "metadata": {
        "colab": {
          "base_uri": "https://localhost:8080/"
        },
        "id": "G8mBeJTKQIEE",
        "outputId": "8e3e7808-2b05-47a2-df16-802997fc1657"
      },
      "execution_count": null,
      "outputs": [
        {
          "output_type": "execute_result",
          "data": {
            "text/plain": [
              "140337397591360"
            ]
          },
          "metadata": {},
          "execution_count": 5
        }
      ]
    },
    {
      "cell_type": "code",
      "source": [
        "L7=L6\n",
        "id(L7)\n",
        "L7.append(5)\n",
        "L7\n"
      ],
      "metadata": {
        "colab": {
          "base_uri": "https://localhost:8080/"
        },
        "id": "K09lQ0uzQWzI",
        "outputId": "55d6bf2f-9f31-4790-b308-b3221314f8af"
      },
      "execution_count": null,
      "outputs": [
        {
          "output_type": "execute_result",
          "data": {
            "text/plain": [
              "[1, 2, 3, 4, [...], 5, 5, 5, 5, 5]"
            ]
          },
          "metadata": {},
          "execution_count": 12
        }
      ]
    },
    {
      "cell_type": "code",
      "source": [
        "L6\n",
        "#Here this can create a problem becoz changes are made in L7 but it hs also effected L6\n",
        "#So to avoid this we do cloning."
      ],
      "metadata": {
        "colab": {
          "base_uri": "https://localhost:8080/"
        },
        "id": "5aqehBIsRPTm",
        "outputId": "81f94480-e1e7-4d9c-a3a7-ccaaa0d02a0a"
      },
      "execution_count": null,
      "outputs": [
        {
          "output_type": "execute_result",
          "data": {
            "text/plain": [
              "[1, 2, 3, 4, [...], 5, 5, 5, 5, 5]"
            ]
          },
          "metadata": {},
          "execution_count": 13
        }
      ]
    },
    {
      "cell_type": "code",
      "source": [
        "#SO do this\n",
        "L6=[1,2,3,4]\n",
        "L6=L7[:]"
      ],
      "metadata": {
        "id": "dH2hBIeoRezV"
      },
      "execution_count": null,
      "outputs": []
    },
    {
      "cell_type": "markdown",
      "source": [
        "#Functions: WE Saw here how function is called.\n",
        "Global Frame."
      ],
      "metadata": {
        "id": "ylJscmptVLJC"
      }
    },
    {
      "cell_type": "code",
      "source": [
        "#here number is parameter.\n",
        "#Brightness level is a parameter and in it 0 to 10 are arguments\n",
        "def even(number):\n",
        "  if type(number)==int:\n",
        "    if number%2==0:\n",
        "      return(\"EVEN\")\n",
        "    else:\n",
        "      return(\"ODD\")\n",
        "  else:\n",
        "    return\"NOT VALID\"\n",
        "\n",
        "x=even(4)\n",
        "print(x)\n",
        "\n",
        "\n"
      ],
      "metadata": {
        "colab": {
          "base_uri": "https://localhost:8080/"
        },
        "id": "GCXFucbYVOtg",
        "outputId": "80734b6c-c897-4e37-cf3b-c9bc7466e37b"
      },
      "execution_count": null,
      "outputs": [
        {
          "output_type": "stream",
          "name": "stdout",
          "text": [
            "EVEN\n"
          ]
        }
      ]
    },
    {
      "cell_type": "code",
      "source": [
        "#Default arguments\n",
        "\n",
        "def power(a=1,b=1):\n",
        "  return (a**b)\n",
        "\n",
        "power(2)"
      ],
      "metadata": {
        "colab": {
          "base_uri": "https://localhost:8080/"
        },
        "id": "HiuwaU3dXmuO",
        "outputId": "4862eba7-14ce-4dcf-d2f8-08da386bf129"
      },
      "execution_count": null,
      "outputs": [
        {
          "output_type": "execute_result",
          "data": {
            "text/plain": [
              "2"
            ]
          },
          "metadata": {},
          "execution_count": 18
        }
      ]
    },
    {
      "cell_type": "code",
      "source": [
        "#Positional argument\n",
        "\n",
        "power(b=2,a=3)\n"
      ],
      "metadata": {
        "colab": {
          "base_uri": "https://localhost:8080/"
        },
        "id": "8pAQAiVXZeNG",
        "outputId": "1d7fcbdc-8d6a-4924-b099-b5447fab598e"
      },
      "execution_count": null,
      "outputs": [
        {
          "output_type": "execute_result",
          "data": {
            "text/plain": [
              "9"
            ]
          },
          "metadata": {},
          "execution_count": 19
        }
      ]
    },
    {
      "cell_type": "code",
      "source": [
        "#Arbitary Argument\n",
        "print(1,2,3)"
      ],
      "metadata": {
        "colab": {
          "base_uri": "https://localhost:8080/"
        },
        "id": "ML_-MAxCZwXW",
        "outputId": "0065daab-d840-43fe-c54d-8eb96a0c6163"
      },
      "execution_count": null,
      "outputs": [
        {
          "output_type": "stream",
          "name": "stdout",
          "text": [
            "1 2 3\n"
          ]
        }
      ]
    },
    {
      "cell_type": "code",
      "source": [
        "def flexi(*number):\n",
        "  product=1\n",
        "\n",
        "  for i in number:\n",
        "     product=product*i\n",
        "     print(product)\n",
        "flexi(2)"
      ],
      "metadata": {
        "colab": {
          "base_uri": "https://localhost:8080/"
        },
        "id": "vk62jEJBa2_Y",
        "outputId": "f1ecf143-1455-4a87-adbc-b05452ba0ada"
      },
      "execution_count": null,
      "outputs": [
        {
          "output_type": "stream",
          "name": "stdout",
          "text": [
            "2\n"
          ]
        }
      ]
    },
    {
      "cell_type": "markdown",
      "source": [
        "#GLOBAL and LOCAL VARIABLE:"
      ],
      "metadata": {
        "id": "-GEb_HVtbluN"
      }
    },
    {
      "cell_type": "code",
      "source": [
        "def f(y):\n",
        "  x=1\n",
        "  x+=1\n",
        "  print(x)\n",
        "#Varibale inside a function is a Local Variable.\n",
        "\n",
        "x=5\n",
        "f(x)\n",
        "print(x)\n",
        "#Varibale inside a function is a GLobal Variable."
      ],
      "metadata": {
        "colab": {
          "base_uri": "https://localhost:8080/"
        },
        "id": "116gl3rbbsbx",
        "outputId": "5bf21ba1-b685-44f5-ce82-dc0ee0c364dc"
      },
      "execution_count": null,
      "outputs": [
        {
          "output_type": "stream",
          "name": "stdout",
          "text": [
            "2\n",
            "5\n"
          ]
        }
      ]
    },
    {
      "cell_type": "code",
      "source": [
        "def g(y):\n",
        "  print(x)\n",
        "  print(x+1)\n",
        "#Varibale inside a function is a Local Variable.\n",
        "\n",
        "x=5\n",
        "g(x)\n",
        "print(x)"
      ],
      "metadata": {
        "colab": {
          "base_uri": "https://localhost:8080/"
        },
        "id": "oFWA6Oooc4Bx",
        "outputId": "81c4991b-99fb-4eed-ba5a-f8c040ca8aa5"
      },
      "execution_count": null,
      "outputs": [
        {
          "output_type": "stream",
          "name": "stdout",
          "text": [
            "5\n",
            "6\n",
            "5\n"
          ]
        }
      ]
    },
    {
      "cell_type": "code",
      "source": [
        "def h(y):\n",
        "  global x\n",
        "  x+=1\n",
        "\n",
        "\n",
        "x=5\n",
        "h(x)\n",
        "print(x)"
      ],
      "metadata": {
        "colab": {
          "base_uri": "https://localhost:8080/"
        },
        "id": "MoDsQz8JdSM8",
        "outputId": "1a14a762-6f4c-4fd4-f276-17e7eac1cbfc"
      },
      "execution_count": null,
      "outputs": [
        {
          "output_type": "stream",
          "name": "stdout",
          "text": [
            "6\n"
          ]
        }
      ]
    },
    {
      "cell_type": "code",
      "source": [
        "def f(x):\n",
        "  x=x+1\n",
        "  print(\"In f(x): x=\",x)\n",
        "  return x\n",
        "\n",
        "x=3\n",
        "z=f(x)\n",
        "print(\"In main program scope: z=\",z)\n",
        "print(\"In main program scope: x=\",x)"
      ],
      "metadata": {
        "colab": {
          "base_uri": "https://localhost:8080/"
        },
        "id": "AlNtnGCQwUkw",
        "outputId": "c0acbe1c-6aad-4967-e320-d872e213ebe0"
      },
      "execution_count": null,
      "outputs": [
        {
          "output_type": "stream",
          "name": "stdout",
          "text": [
            "In f(x): x= 4\n",
            "In main program scope: z= 4\n",
            "In main program scope: x= 3\n"
          ]
        }
      ]
    },
    {
      "cell_type": "code",
      "source": [
        "def g(x):\n",
        "  def h():\n",
        "    x=\"abc\"\n",
        "  x=x+1\n",
        "  print(\"In g(x):x = \",x)\n",
        "  h()\n",
        "  return x\n",
        "\n",
        "x=3\n",
        "z=g(x)"
      ],
      "metadata": {
        "colab": {
          "base_uri": "https://localhost:8080/"
        },
        "id": "_Z_vLvQPynU-",
        "outputId": "a1d3570e-2028-4303-cd80-9e6a37b03cf1"
      },
      "execution_count": null,
      "outputs": [
        {
          "output_type": "stream",
          "name": "stdout",
          "text": [
            "In g(x):x =  4\n"
          ]
        }
      ]
    },
    {
      "cell_type": "code",
      "source": [
        "def g(x):\n",
        "  def h(x):\n",
        "    x=x+1\n",
        "    print(\"In h(x): x = \", x)\n",
        "  x=x+1\n",
        "  print(\"In g(x): x \",x)\n",
        "  h(x)\n",
        "  return x\n",
        "\n",
        "x=3\n",
        "z=g(x)\n",
        "print(\"In main program scope: x= \",x)\n",
        "print(\" In main program scope: z= \", z)"
      ],
      "metadata": {
        "colab": {
          "base_uri": "https://localhost:8080/"
        },
        "id": "lkcbngdlz4Mb",
        "outputId": "c88bc6e5-a684-42bc-8d30-4d29d45111a6"
      },
      "execution_count": null,
      "outputs": [
        {
          "output_type": "stream",
          "name": "stdout",
          "text": [
            "In g(x): x  4\n",
            "In h(x): x =  5\n",
            "In main program scope: x=  3\n",
            " In main program scope: z=  4\n"
          ]
        }
      ]
    }
  ]
}